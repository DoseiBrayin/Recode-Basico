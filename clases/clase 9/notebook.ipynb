{
 "cells": [
  {
   "cell_type": "code",
   "execution_count": 1,
   "metadata": {},
   "outputs": [
    {
     "name": "stdout",
     "output_type": "stream",
     "text": [
      "programando la ejecución de mi función...\n",
      "Date to execute: 2024-01-25 23:46:30.501798\n",
      "Ejecutando mi función...\n",
      "Date to execute: 2024-01-25 23:47:30.584944\n",
      "Ejecutando mi función...\n",
      "Date to execute: 2024-01-25 23:48:30.650935\n",
      "Ejecutando mi función...\n",
      "Date to execute: 2024-01-25 23:49:30.718809\n",
      "Ejecutando mi función...\n",
      "Date to execute: 2024-01-25 23:50:30.789747\n",
      "Ejecutando mi función...\n",
      "Date to execute: 2024-01-25 23:51:30.853719\n",
      "Ejecutando mi función...\n",
      "Date to execute: 2024-01-25 23:52:30.920824\n",
      "Ejecutando mi función...\n",
      "Date to execute: 2024-01-25 23:53:30.983073\n",
      "Ejecutando mi función...\n",
      "Date to execute: 2024-01-25 23:54:31.045761\n",
      "Ejecutando mi función...\n",
      "Date to execute: 2024-01-25 23:55:31.108078\n",
      "Ejecutando mi función...\n",
      "Date to execute: 2024-01-25 23:56:31.169732\n",
      "Ejecutando mi función...\n",
      "Date to execute: 2024-01-25 23:57:31.231214\n",
      "Ejecutando mi función...\n",
      "Date to execute: 2024-01-25 23:58:31.295680\n",
      "Ejecutando mi función...\n",
      "Date to execute: 2024-01-25 23:59:31.355665\n",
      "REAGENDANDO\n",
      "programando la ejecución de mi función...\n",
      "Date to execute: 2024-01-26 00:01:00.451024\n",
      "Ejecutando mi función...\n",
      "Date to execute: 2024-01-26 00:02:00.515005\n",
      "Ejecutando mi función...\n",
      "Date to execute: 2024-01-26 00:03:00.575102\n",
      "Ejecutando mi función...\n",
      "Date to execute: 2024-01-26 00:04:00.636274\n",
      "Ejecutando mi función...\n",
      "Date to execute: 2024-01-26 00:23:39.544849\n",
      "Ejecutando mi función...\n",
      "Date to execute: 2024-01-26 00:24:39.621286\n",
      "Ejecutando mi función...\n"
     ]
    },
    {
     "ename": "KeyboardInterrupt",
     "evalue": "",
     "output_type": "error",
     "traceback": [
      "\u001b[0;31m---------------------------------------------------------------------------\u001b[0m",
      "\u001b[0;31mKeyboardInterrupt\u001b[0m                         Traceback (most recent call last)",
      "\u001b[1;32m/home/doseibryn/Documentos/recode curso basico/clases/clase 9/notebook.ipynb Celda 1\u001b[0m line \u001b[0;36m2\n\u001b[1;32m     <a href='vscode-notebook-cell:/home/doseibryn/Documentos/recode%20curso%20basico/clases/clase%209/notebook.ipynb#X14sZmlsZQ%3D%3D?line=23'>24</a>\u001b[0m \u001b[39mwhile\u001b[39;00m \u001b[39mTrue\u001b[39;00m:\n\u001b[1;32m     <a href='vscode-notebook-cell:/home/doseibryn/Documentos/recode%20curso%20basico/clases/clase%209/notebook.ipynb#X14sZmlsZQ%3D%3D?line=24'>25</a>\u001b[0m     schedule\u001b[39m.\u001b[39mrun_pending()\n\u001b[0;32m---> <a href='vscode-notebook-cell:/home/doseibryn/Documentos/recode%20curso%20basico/clases/clase%209/notebook.ipynb#X14sZmlsZQ%3D%3D?line=25'>26</a>\u001b[0m     time\u001b[39m.\u001b[39;49msleep(\u001b[39m1\u001b[39;49m)  \u001b[39m# Puedes ajustar\u001b[39;00m\n",
      "\u001b[0;31mKeyboardInterrupt\u001b[0m: "
     ]
    }
   ],
   "source": [
    "import schedule\n",
    "import time\n",
    "import datetime\n",
    "\n",
    "def mi_funcion():\n",
    "    now = datetime.datetime.now()\n",
    "    print(f'Date to execute: {now}')\n",
    "    if now.minute >= 59: #Condicion de reagendamiento de la tarea\n",
    "        print('REAGENDANDO')\n",
    "        schedule.clear()\n",
    "        schedule.every().day.at(\"00:00\").tag('daily_task').do(programar_funcion)\n",
    "    else:\n",
    "        print(\"Ejecutando mi función...\") #funcionamiento de la funcion\n",
    "\n",
    "def programar_funcion():\n",
    "    print(\"programando la ejecución de mi función...\")\n",
    "    # Programar la función para ejecutarse cada minuto\n",
    "    schedule.every(1).minutes.do(mi_funcion)\n",
    "\n",
    "# Programar la función para empezar a ejecutarse \n",
    "schedule.every().day.at(\"23:45:30\").tag('daily_task').do(programar_funcion)\n",
    "\n",
    "# Ejecutar el programa infinitamente\n",
    "while True:\n",
    "    schedule.run_pending()\n",
    "    time.sleep(1)  # Puedes ajustar"
   ]
  }
 ],
 "metadata": {
  "kernelspec": {
   "display_name": "Python 3",
   "language": "python",
   "name": "python3"
  },
  "language_info": {
   "codemirror_mode": {
    "name": "ipython",
    "version": 3
   },
   "file_extension": ".py",
   "mimetype": "text/x-python",
   "name": "python",
   "nbconvert_exporter": "python",
   "pygments_lexer": "ipython3",
   "version": "3.10.12"
  }
 },
 "nbformat": 4,
 "nbformat_minor": 2
}
